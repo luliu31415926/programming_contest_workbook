{
 "cells": [
  {
   "cell_type": "code",
   "execution_count": 13,
   "metadata": {},
   "outputs": [],
   "source": [
    "\n",
    "#O(VE**2)\n",
    "import collections\n",
    " \n",
    "# This class represents a directed graph using adjacency matrix representation\n",
    "class Graph:\n",
    "  \n",
    "    def __init__(self,graph):\n",
    "        self.graph = graph # residual graph\n",
    "        self.ROW = len(graph)\n",
    "  \n",
    "    def BFS(self,s, t, parent):\n",
    "\n",
    "        '''Returns true if there is a path from source 's' to sink 't' in\n",
    "        residual graph. Also fills parent[] to store the path '''\n",
    "        # Mark all the vertices as not visited\n",
    "        visited = [False] * (self.ROW)\n",
    "        \n",
    "        # Create a queue for BFS\n",
    "        queue = collections.deque()\n",
    "         \n",
    "        # Mark the source node as visited and enqueue it\n",
    "        queue.append(s)\n",
    "        visited[s] = True\n",
    "         \n",
    "        # Standard BFS Loop\n",
    "        while queue:\n",
    "            u = queue.popleft()\n",
    "         \n",
    "            # Get all adjacent vertices's of the dequeued vertex u\n",
    "            # If a adjacent has not been visited, then mark it\n",
    "            # visited and enqueue it\n",
    "            for ind, val in enumerate(self.graph[u]):\n",
    "                if visited[ind] == False and val > 0 :\n",
    "                    queue.append(ind)\n",
    "                    visited[ind] = True\n",
    "                    parent[ind] = u\n",
    " \n",
    "        # If we reached sink in BFS starting from source, then return\n",
    "        # true, else false\n",
    "        return visited[t]\n",
    "             \n",
    "    # Returns the maximum flow from s to t in the given graph\n",
    "    def EdmondsKarp(self, source, sink):\n",
    " \n",
    "        # This array is filled by BFS and to store path\n",
    "        parent = [-1] * (self.ROW)\n",
    " \n",
    "        max_flow = 0 # There is no flow initially\n",
    " \n",
    "        # Augment the flow while there is path from source to sink\n",
    "        while self.BFS(source, sink, parent) :\n",
    " \n",
    "            # Find minimum residual capacity of the edges along the\n",
    "            # path filled by BFS. Or we can say find the maximum flow\n",
    "            # through the path found.\n",
    "            path_flow = float(\"Inf\")\n",
    "            s = sink\n",
    "            while s !=  source:\n",
    "                path_flow = min (path_flow, self.graph[parent[s]][s])\n",
    "                s = parent[s]\n",
    " \n",
    "            # Add path flow to overall flow\n",
    "            max_flow +=  path_flow\n",
    " \n",
    "            # update residual capacities of the edges and reverse edges\n",
    "            # along the path\n",
    "            v = sink\n",
    "            while v !=  source:\n",
    "                u = parent[v]\n",
    "                self.graph[u][v] -= path_flow\n",
    "                self.graph[v][u] += path_flow\n",
    "                v = parent[v]\n",
    "        return max_flow\n",
    "        "
   ]
  },
  {
   "cell_type": "code",
   "execution_count": 14,
   "metadata": {},
   "outputs": [],
   "source": [
    "graph=[[0,10,2,0,0],\n",
    "      [0,0,6,6,0],\n",
    "      [0,0,0,0,5],\n",
    "      [0,0,3,0,8],\n",
    "      [0,0,0,0,0]]\n",
    "g=Graph(graph)"
   ]
  },
  {
   "cell_type": "code",
   "execution_count": 15,
   "metadata": {},
   "outputs": [
    {
     "data": {
      "text/plain": [
       "11"
      ]
     },
     "execution_count": 15,
     "metadata": {},
     "output_type": "execute_result"
    }
   ],
   "source": [
    "g.EdmondsKarp(0,4)\n"
   ]
  },
  {
   "cell_type": "code",
   "execution_count": null,
   "metadata": {
    "collapsed": true
   },
   "outputs": [],
   "source": []
  }
 ],
 "metadata": {
  "kernelspec": {
   "display_name": "Python 3",
   "language": "python",
   "name": "python3"
  },
  "language_info": {
   "codemirror_mode": {
    "name": "ipython",
    "version": 3
   },
   "file_extension": ".py",
   "mimetype": "text/x-python",
   "name": "python",
   "nbconvert_exporter": "python",
   "pygments_lexer": "ipython3",
   "version": "3.6.3"
  }
 },
 "nbformat": 4,
 "nbformat_minor": 2
}
