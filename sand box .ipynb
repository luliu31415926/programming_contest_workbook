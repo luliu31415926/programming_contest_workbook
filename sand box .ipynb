{
 "cells": [
  {
   "cell_type": "code",
   "execution_count": 18,
   "metadata": {},
   "outputs": [
    {
     "ename": "NameError",
     "evalue": "name 'MAX_V' is not defined",
     "output_type": "error",
     "traceback": [
      "\u001b[0;31m---------------------------------------------------------------------------\u001b[0m",
      "\u001b[0;31mNameError\u001b[0m                                 Traceback (most recent call last)",
      "\u001b[0;32m<ipython-input-18-8e355de8aafc>\u001b[0m in \u001b[0;36m<module>\u001b[0;34m()\u001b[0m\n\u001b[1;32m      1\u001b[0m \u001b[0;31m# min cost flow\u001b[0m\u001b[0;34m\u001b[0m\u001b[0;34m\u001b[0m\u001b[0m\n\u001b[1;32m      2\u001b[0m \u001b[0;34m\u001b[0m\u001b[0m\n\u001b[0;32m----> 3\u001b[0;31m \u001b[0mG\u001b[0m\u001b[0;34m=\u001b[0m\u001b[0;34m[\u001b[0m\u001b[0;34m-\u001b[0m\u001b[0;36m1\u001b[0m\u001b[0;34m]\u001b[0m\u001b[0;34m*\u001b[0m\u001b[0mMAX_V\u001b[0m\u001b[0;34m\u001b[0m\u001b[0m\n\u001b[0m\u001b[1;32m      4\u001b[0m \u001b[0mprevv\u001b[0m\u001b[0;34m=\u001b[0m\u001b[0;34m[\u001b[0m\u001b[0;34m-\u001b[0m\u001b[0;36m1\u001b[0m\u001b[0;34m]\u001b[0m\u001b[0;34m*\u001b[0m\u001b[0mMAX_V\u001b[0m\u001b[0;34m\u001b[0m\u001b[0m\n\u001b[1;32m      5\u001b[0m \u001b[0mpreve\u001b[0m\u001b[0;34m=\u001b[0m\u001b[0;34m[\u001b[0m\u001b[0;34m-\u001b[0m\u001b[0;36m1\u001b[0m\u001b[0;34m]\u001b[0m\u001b[0;34m*\u001b[0m\u001b[0mMAX_V\u001b[0m\u001b[0;34m\u001b[0m\u001b[0m\n",
      "\u001b[0;31mNameError\u001b[0m: name 'MAX_V' is not defined"
     ]
    }
   ],
   "source": [
    "# min cost flow \n",
    "\n",
    "G=[-1]*MAX_V\n",
    "prevv=[-1]*MAX_V\n",
    "preve=[-1]*MAX_V\n",
    "\n",
    "class Edge:\n",
    "    def __init__(self,to,cap,cost,rev):\n",
    "        self.to=to\n",
    "        self.cap=cap\n",
    "        self.cost=cost\n",
    "        self.rev=rev\n",
    "        \n",
    "def add_edge(fro,to,cap,cost):\n",
    "    G[fro].append(Edge(to,cap,cost,len(G[to])))\n",
    "    G[to].append(Edge(fro,0,-cost,len(G[fro])-1))\n",
    "    \n",
    "def min_cost_flow(s,t,f):\n",
    "    res=0\n",
    "    h=[0]*V\n",
    "    while f>0:\n",
    "        heap=[]\n",
    "        dist=[float('inf')]*V\n",
    "        dist[s]=0\n",
    "        heapq.heappush(heap,(0,s)) #(dist, vertex)\n",
    "        while heap:\n",
    "            d,v=heapq.heappop(heap)\n",
    "            if dist[v]<d: continue \n",
    "            for i in range(len(G[v])):\n",
    "                e=G[v][i]\n",
    "                if e.cap>0 and dist[e.to]>dist[v]+e.cost+h[v]-h[e.to]:\n",
    "                    dist[e.to]=dist[v]+e.cost+h[v]-h[e.to]\n",
    "                    prevv[e.to]=v\n",
    "                    preve[e.to]=i\n",
    "                    heapq.heappush((dist[e.to],e.to))\n",
    "        if dist[t]==float('inf'):\n",
    "            return -1\n",
    "        for v in range(V):\n",
    "            h[v]+=dist[v]\n",
    "        d=f\n",
    "        v=t\n",
    "        while v!=s:\n",
    "            d=min(d,G[prevv[v]][preve[v]].cap)\n",
    "            v=prevv[v]\n",
    "        f-=d\n",
    "        res+=d*h[t]\n",
    "        v=t\n",
    "        while v!=s:\n",
    "            e=G[prevv[v]][preve[v]]\n",
    "            e.cap-=d\n",
    "            G[v][e.rev].cap+=d\n",
    "            v=prevv[v]\n",
    "    return res"
   ]
  },
  {
   "cell_type": "code",
   "execution_count": 24,
   "metadata": {},
   "outputs": [
    {
     "name": "stdout",
     "output_type": "stream",
     "text": [
      "6\n"
     ]
    }
   ],
   "source": [
    "import heapq\n",
    "inpt=iter(['4 5',\n",
    "'1 2 1',\n",
    "'2 3 1',\n",
    "'3 4 1',\n",
    "'1 3 2',\n",
    "'2 4 2'])\n",
    "N,M=tuple(map(int,next(inpt).split()))\n",
    "V=N+1\n",
    "G=[[] for _ in range(V)]\n",
    "\n",
    "\n",
    "class Edge:\n",
    "    def __init__(self,to,cap,cost,rev):\n",
    "        self.to=to\n",
    "        self.cap=cap\n",
    "        self.cost=cost\n",
    "        self.rev=rev\n",
    "        \n",
    "def add_edge(fro,to,cap,cost):\n",
    "    G[fro].append(Edge(to,cap,cost,len(G[to])))\n",
    "    G[to].append(Edge(fro,0,-cost,len(G[fro])-1))\n",
    "    \n",
    "def min_cost_flow(s,t,f):\n",
    "    prevv=[-1]*V\n",
    "    preve=[-1]*V\n",
    "    res=0\n",
    "    h=[0]*V\n",
    "    while f>0:\n",
    "        heap=[]\n",
    "        dist=[float('inf')]*V\n",
    "        dist[s]=0\n",
    "        heapq.heappush(heap,(0,s)) #(dist, vertex)\n",
    "        while heap:\n",
    "            d,v=heapq.heappop(heap)\n",
    "            if dist[v]<d: continue \n",
    "            for i in range(len(G[v])):\n",
    "                e=G[v][i]\n",
    "                if e.cap>0 and dist[e.to]>dist[v]+e.cost+h[v]-h[e.to]:\n",
    "                    dist[e.to]=dist[v]+e.cost+h[v]-h[e.to]\n",
    "                    prevv[e.to]=v\n",
    "                    preve[e.to]=i\n",
    "                    heapq.heappush(heap,(dist[e.to],e.to))\n",
    "        if dist[t]==float('inf'):\n",
    "            return -1\n",
    "        for v in range(V):\n",
    "            h[v]+=dist[v]\n",
    "        d=f\n",
    "        v=t\n",
    "        while v!=s:\n",
    "            d=min(d,G[prevv[v]][preve[v]].cap)\n",
    "            v=prevv[v]\n",
    "        f-=d\n",
    "        res+=d*h[t]\n",
    "        v=t\n",
    "        while v!=s:\n",
    "            e=G[prevv[v]][preve[v]]\n",
    "            e.cap-=d\n",
    "            G[v][e.rev].cap+=d\n",
    "            v=prevv[v]\n",
    "    return res\n",
    "\n",
    "for _ in range(M):\n",
    "    u,v,c=tuple(map(int,next(inpt).split()))\n",
    "    add_edge(u,v,1,c)\n",
    "    add_edge(v,u,1,c)\n",
    "print (min_cost_flow(1,N,2))"
   ]
  },
  {
   "cell_type": "code",
   "execution_count": 29,
   "metadata": {},
   "outputs": [
    {
     "name": "stdout",
     "output_type": "stream",
     "text": [
      "1 2 0 1 0\n",
      "1 2 0 -1 1\n",
      "1 3 0 2 4\n",
      "1 3 0 -2 5\n",
      "2 1 1 -1 0\n",
      "2 1 1 1 1\n",
      "2 3 1 1 0\n",
      "2 3 0 -1 1\n",
      "2 4 0 2 2\n",
      "2 4 0 -2 3\n",
      "3 2 0 -1 2\n",
      "3 2 1 1 3\n",
      "3 4 0 1 0\n",
      "3 4 0 -1 1\n",
      "3 1 1 -2 2\n",
      "3 1 1 2 3\n",
      "4 3 1 -1 2\n",
      "4 3 1 1 3\n",
      "4 2 1 -2 4\n",
      "4 2 1 2 5\n"
     ]
    }
   ],
   "source": [
    "for i,u in enumerate(G):\n",
    "    for e in u :\n",
    "        print (i,e.to,e.cap,e.cost,e.rev)\n",
    "        "
   ]
  },
  {
   "cell_type": "code",
   "execution_count": null,
   "metadata": {
    "collapsed": true
   },
   "outputs": [],
   "source": [
    "# bipartite matching \n",
    "G=[[] for _ in range(MAX_V)]\n",
    "used=[False]*MAX_V\n",
    "match=[-1]*MAX_V\n",
    "def add_edge(u,v):\n",
    "    G[u].append(v)\n",
    "    G[v].append(u)\n",
    "def dfs(v):\n",
    "    used[v]=True\n",
    "    for i in range(len(G[v])):\n",
    "        u=G[v][i]\n",
    "        w=match[u]\n",
    "        if w<0 or (not used[w] and dfs(w)):\n",
    "            match[v]=u\n",
    "            match[u]=v\n",
    "            return True\n",
    "    return False\n",
    "def bipartite_matching():\n",
    "    res=0\n",
    "    for v in range(MAX_V):\n",
    "        if match[v]<0:\n",
    "            used=[False]*MAX_V\n",
    "            if dfs(v):res+=1 \n",
    "    return res "
   ]
  },
  {
   "cell_type": "code",
   "execution_count": 4,
   "metadata": {
    "scrolled": true
   },
   "outputs": [
    {
     "name": "stdout",
     "output_type": "stream",
     "text": [
      "3 4\n",
      "1 1 \n",
      "1 3\n",
      "2 2\n",
      "3 2\n",
      "2\n"
     ]
    }
   ],
   "source": [
    "# ASTEROID POJ 3041 \n",
    "# 最小顶点覆盖： 每个边都至少与其中一个顶点相交 \n",
    "# 二分图中 最小顶点覆盖数= 最大匹配数 \n",
    "# after max flow, s 到不了的u +s 到的了的 v\n",
    "\n",
    "\n",
    "# bipartite matching \n",
    "\n",
    "def add_edge(u,v):\n",
    "    G[u].append(v)\n",
    "    G[v].append(u)\n",
    "def dfs(v):\n",
    "    used[v]=True\n",
    "    for i in range(len(G[v])):\n",
    "        u=G[v][i]\n",
    "        w=match[u]\n",
    "        if w<0 or (not used[w] and dfs(w)):\n",
    "            match[v]=u\n",
    "            match[u]=v\n",
    "            return True\n",
    "    return False\n",
    "def bipartite_matching():\n",
    "    res=0\n",
    "    for v in range(MAX_V):\n",
    "        if match[v]<0:\n",
    "            used=[False]*MAX_V\n",
    "            if dfs(v):res+=1 \n",
    "\n",
    "    return res \n",
    "\n",
    "\n",
    "N,K=tuple(map(int,input().split()))\n",
    "MAX_V=2*N\n",
    "G=[[] for _ in range(MAX_V)]\n",
    "used=[False]*MAX_V\n",
    "match=[-1]*MAX_V\n",
    "\n",
    "for _ in range(K):\n",
    "\tu,v=tuple(map(int,input().split()))\n",
    "\tadd_edge(u-1,N+v-1)\n",
    "res=bipartite_matching()"
   ]
  },
  {
   "cell_type": "code",
   "execution_count": 12,
   "metadata": {
    "collapsed": true
   },
   "outputs": [],
   "source": [
    "inpt=iter(['5 5','XXDXX','X...X','D...X','X...D','XXXXX'])"
   ]
  },
  {
   "cell_type": "code",
   "execution_count": 26,
   "metadata": {},
   "outputs": [
    {
     "name": "stdout",
     "output_type": "stream",
     "text": [
      "1 4\n",
      "impossible\n"
     ]
    }
   ],
   "source": [
    "inpt=iter(['5 5','XDXXX','X.X.D','XX.XX','D.X.X','XXXDX'])\n",
    "import collections \n",
    "# Evacuation poj 3057 \n",
    "R,C=tuple(map(int,next(inpt).split()))\n",
    "people=[]\n",
    "door=[]\n",
    "graph=[]\n",
    "for i in range(R):\n",
    "    line=next(inpt)\n",
    "    graph.append(line)\n",
    "    for j,c in enumerate(line):\n",
    "        if c=='D':\n",
    "            door.append((i,j))\n",
    "        if c=='.':\n",
    "            people.append((i,j))\n",
    "v_hash=dict()\n",
    "for i,p in enumerate(people):\n",
    "    v_hash[p]=i\n",
    "for i,d in enumerate(door):\n",
    "    v_hash[d]=i+len(people)\n",
    "\n",
    "\n",
    "dist=collections.defaultdict(list)\n",
    "\n",
    "def bfs(dx,dy):\n",
    "    visited=[[False]*C for _ in range(R)]\n",
    "    t=0\n",
    "    DIRS=[(0,1),(1,0),(0,-1),(-1,0)]\n",
    "    q=collections.deque()\n",
    "    q.append((dx,dy))\n",
    "    while q:\n",
    "        cur_x,cur_y=q.popleft()\n",
    "        visited[cur_x][cur_y]=True\n",
    "        t+=1\n",
    "        for u,v  in DIRS:\n",
    "            if 0<= cur_x+u<R and 0<=cur_y+v<C and \\\n",
    "            graph[cur_x+u][cur_y+v]=='.' and not visited[cur_x+u][cur_y+v]:\n",
    "                q.append((cur_x+u,cur_y+v))\n",
    "                dist[t].append((v_hash[dx,dy],v_hash[cur_x+u,cur_y+v]))\n",
    "    return \n",
    "\n",
    "# find the distance of each person to each door \n",
    "for dx,dy in door:\n",
    "    bfs(dx,dy)  \n",
    "\n",
    "\n",
    "MAX_V=len(people)+len(door)\n",
    "\n",
    "MAX_T=max(dist.keys())\n",
    "\n",
    "# bipartite matching \n",
    "def add_edge(u,v):\n",
    "    G[u].append(v)\n",
    "    G[v].append(u)\n",
    "def dfs(v):\n",
    "    used[v]=True\n",
    "    for i in range(len(G[v])):\n",
    "        u=G[v][i]\n",
    "        w=match[u]\n",
    "        if w<0 or (not used[w] and dfs(w)):\n",
    "            match[v]=u\n",
    "            match[u]=v\n",
    "            return True\n",
    "    return False\n",
    "\n",
    "t=1\n",
    "res=0\n",
    "while 1:\n",
    "    #for every new second rematch newly escapable people with doors  \n",
    "    G=[[] for _ in range(MAX_V)]\n",
    "    match=[-1]*MAX_V\n",
    "    for u,v in dist[t]:\n",
    "        add_edge(u,v)\n",
    "    for u,v in dist[t]:\n",
    "        if match[u]<0:\n",
    "            used=[False]*MAX_V\n",
    "            if dfs(u):res+=1\n",
    "        if match[v]<0:\n",
    "            used=[False]*MAX_V\n",
    "            if dfs(v):res+=1\n",
    "\n",
    "    print (t,res)\n",
    "    if res==len(people): \n",
    "        print (t)\n",
    "        break\n",
    "    if t==MAX_T:\n",
    "        print ('impossible')\n",
    "        break\n",
    "    t+=1\n",
    "        "
   ]
  },
  {
   "cell_type": "code",
   "execution_count": 1,
   "metadata": {},
   "outputs": [],
   "source": [
    "from Dinic import Dinic"
   ]
  },
  {
   "cell_type": "code",
   "execution_count": 13,
   "metadata": {
    "scrolled": true
   },
   "outputs": [
    {
     "name": "stdout",
     "output_type": "stream",
     "text": [
      "3\n"
     ]
    }
   ],
   "source": [
    "inpt=iter(['4 3 3','2 2 1 2 3 1','2 2 2 3 1 2','2 2 1 3 1 2','2 1 1 3 3'])\n",
    "N,F,D=tuple(map(int,next(inpt).split()))\n",
    "dinic=Dinic(2+F+D+N*2)\n",
    "source=0\n",
    "sink=1+F+D+N*2\n",
    "for food in range(1,F+1):\n",
    "    dinic.add_edge(source,food,1)\n",
    "for drink in range(F+1,F+1+D):\n",
    "    dinic.add_edge(drink,sink,1)\n",
    "for i in range(1,N+1):\n",
    "    dinic.add_edge(F+D+i,F+D+N+i,1)\n",
    "for i in range(1,N+1):\n",
    "    line=list(map(int,next(inpt).split()))\n",
    "    f,d=line[:2]\n",
    "    for food in line[2:2+f]:\n",
    "        dinic.add_edge(food,F+D+i,1)\n",
    "    for drink in line[-d:]:\n",
    "        dinic.add_edge(F+D+N+i,drink+F,1)\n",
    "max_flow=dinic.max_flow(source,sink)\n",
    "print (max_flow)"
   ]
  },
  {
   "cell_type": "code",
   "execution_count": 11,
   "metadata": {},
   "outputs": [],
   "source": [
    "max_flow=dinic.max_flow(source,sink)"
   ]
  },
  {
   "cell_type": "code",
   "execution_count": 12,
   "metadata": {},
   "outputs": [
    {
     "data": {
      "text/plain": [
       "3"
      ]
     },
     "execution_count": 12,
     "metadata": {},
     "output_type": "execute_result"
    }
   ],
   "source": [
    "max_flow"
   ]
  },
  {
   "cell_type": "code",
   "execution_count": 17,
   "metadata": {
    "scrolled": true
   },
   "outputs": [
    {
     "name": "stdout",
     "output_type": "stream",
     "text": [
      "13\n"
     ]
    }
   ],
   "source": [
    "from Dinic import Dinic\n",
    "inpt=iter(['3 1',\n",
    "'1 10',\n",
    "'2 10',\n",
    "'10 3',\n",
    "'2 3 1000'])\n",
    "N,M=tuple(map(int,next(inpt).split()))\n",
    "dinic=Dinic(N+2)\n",
    "source=0\n",
    "sink=N+1\n",
    "for i in range(1,N+1):\n",
    "\ta,b=tuple(map(int,next(inpt).split()))\n",
    "\tdinic.add_edge(source,i,a)\n",
    "\tdinic.add_edge(i,sink,b)\n",
    "for _ in range(M):\n",
    "\ta,b,w=tuple(map(int,next(inpt).split()))\n",
    "\tdinic.add_edge(a,b,w)\n",
    "\tdinic.add_edge(b,a,w)\n",
    "print (dinic.max_flow(source,sink))"
   ]
  },
  {
   "cell_type": "code",
   "execution_count": 37,
   "metadata": {},
   "outputs": [
    {
     "data": {
      "text/plain": [
       "-4"
      ]
     },
     "execution_count": 37,
     "metadata": {},
     "output_type": "execute_result"
    }
   ],
   "source": [
    "import numpy as np\n",
    "p1=np.array((0,0))\n",
    "p2=np.array((3,3))\n",
    "q=np.array((1,1))\n",
    "np.cross(p1-q,p2-q)\n",
    "np.dot(p1-q,p2-q)"
   ]
  },
  {
   "cell_type": "code",
   "execution_count": 52,
   "metadata": {
    "collapsed": true
   },
   "outputs": [],
   "source": [
    "p1=(0,0)\n",
    "p2=(3,3)\n",
    "q=(3,3)\n",
    "p1,p2,q=tuple(map(np.array,(p1,p2,q)))"
   ]
  },
  {
   "cell_type": "code",
   "execution_count": 56,
   "metadata": {},
   "outputs": [
    {
     "data": {
      "text/plain": [
       "array(0)"
      ]
     },
     "execution_count": 56,
     "metadata": {},
     "output_type": "execute_result"
    }
   ],
   "source": [
    "np.cross(p1-q,p2-q)"
   ]
  },
  {
   "cell_type": "code",
   "execution_count": 57,
   "metadata": {},
   "outputs": [
    {
     "data": {
      "text/plain": [
       "0"
      ]
     },
     "execution_count": 57,
     "metadata": {},
     "output_type": "execute_result"
    }
   ],
   "source": [
    "np.dot(p1-q,p2-q)"
   ]
  },
  {
   "cell_type": "code",
   "execution_count": 58,
   "metadata": {
    "collapsed": true
   },
   "outputs": [],
   "source": [
    "p1=(0,3)\n",
    "p2=(3,3)\n",
    "q1=(0,0)\n",
    "q2=(3,0)\n",
    "p1,p2,q1,q2=tuple(map(np.array,(p1,p2,q1,q2)))"
   ]
  },
  {
   "cell_type": "code",
   "execution_count": 62,
   "metadata": {},
   "outputs": [
    {
     "data": {
      "text/plain": [
       "array([1.5, 1.5])"
      ]
     },
     "execution_count": 62,
     "metadata": {},
     "output_type": "execute_result"
    }
   ],
   "source": [
    "np.cross(q2-q1,q1-p1)/np.cross(q2-q1,p2-p1)*(p2-p1)+p1"
   ]
  },
  {
   "cell_type": "code",
   "execution_count": 61,
   "metadata": {},
   "outputs": [
    {
     "data": {
      "text/plain": [
       "array([1.5, 1.5])"
      ]
     },
     "execution_count": 61,
     "metadata": {},
     "output_type": "execute_result"
    }
   ],
   "source": [
    "0.5*(p2-p1)+p1"
   ]
  },
  {
   "cell_type": "code",
   "execution_count": 64,
   "metadata": {
    "collapsed": true
   },
   "outputs": [],
   "source": [
    "\n",
    "def intersection(p1,p2,q1,q2):\n",
    "\t# calculate the intersection point of segment p1-p2 and q1-q2 \n",
    "\tp1,p2,q1,q2=tuple(map(np.array,(p1,p2,q1,q2)))\n",
    "    if np.cross(q2-q1,p2-p1)==0: \n",
    "        # parallel lines \n",
    "        return None \n",
    "\treturn np.cross(q2-q1,q1-p1)/np.cross(q2-q1,p2-p1)*(p2-p1)+p1"
   ]
  },
  {
   "cell_type": "code",
   "execution_count": 66,
   "metadata": {},
   "outputs": [
    {
     "data": {
      "text/plain": [
       "array([4.5, 0. ])"
      ]
     },
     "execution_count": 66,
     "metadata": {},
     "output_type": "execute_result"
    }
   ],
   "source": [
    "p1=(0,3)\n",
    "p2=(3,1)\n",
    "q1=(0,0)\n",
    "q2=(3,0)\n",
    "intersection(p1,p2,q1,q2)"
   ]
  },
  {
   "cell_type": "code",
   "execution_count": 109,
   "metadata": {},
   "outputs": [
    {
     "name": "stdout",
     "output_type": "stream",
     "text": [
      "4 1\n",
      "5 3\n",
      "5 4\n",
      "7 6\n",
      "CONNECTED\n",
      "NOT CONNECTED\n",
      "CONNECTED\n",
      "CONNECTED\n",
      "NOT CONNECTED\n",
      "CONNECTED\n"
     ]
    }
   ],
   "source": [
    "# jack straws poj 1127 \n",
    "inpt=iter([\n",
    "'7',\n",
    "'1 6 3 3 ',\n",
    "'4 6 4 9 ',\n",
    "'4 5 6 7 ',\n",
    "'1 4 3 5 ',\n",
    "'3 5 5 5 ',\n",
    "'5 2 6 3 ',\n",
    "'5 4 7 2' ,\n",
    "'1 4 ',\n",
    "'1 6 ',\n",
    "'3 3 ',\n",
    "'6 7 ',\n",
    "'2 3 ',\n",
    "'1 3 ',\n",
    "'0 0'\n",
    "])\n",
    "\n",
    "\n",
    "# geometry functions \n",
    "import numpy as np\n",
    "\n",
    "class UF:\n",
    "    def __init__(self,n):\n",
    "        self.parent=[i for i in range(n)]\n",
    "        self.rank=[0]*n\n",
    "        self.cnt=n\n",
    "    def find(self,x):\n",
    "        p=self.parent[x]\n",
    "        if p==x: return x\n",
    "        else: self.parent[x]=self.find(p)\n",
    "        return self.parent[x]\n",
    "    def union(self,x,y):\n",
    "        x=self.find(x)\n",
    "        y=self.find(y)\n",
    "        if x==y: return \n",
    "        if self.rank[x]<self.rank[y]:\n",
    "            self.parent[x]=y\n",
    "        else:\n",
    "            self.parent[y]=x\n",
    "            if self.rank[x]==self.rank[y]: self.rank[x]+=1 \n",
    "        self.cnt-=1 \n",
    "    def same(self,x,y):\n",
    "        return self.find(x)==self.find(y)\n",
    "\n",
    "# geometry functions \n",
    "import numpy as np\n",
    "eps=0.00001\n",
    "\n",
    "\n",
    "def on_seg(p1,p2,q):\n",
    "    # whether point q is on segment p1-p2 (including pint p1 and p2 )\n",
    "    p1,p2,q=tuple(map(np.array,(p1,p2,q)))\n",
    "    return abs(np.cross(p1-q,p2-q)-0)<eps and np.dot(p1-q,p2-q)<=0\n",
    "\n",
    "def intersection(p1,p2,q1,q2):\n",
    "    # calculate the intersection point of segment p1-p2 and q1-q2 \n",
    "    p1,p2,q1,q2=tuple(map(np.array,(p1,p2,q1,q2)))\n",
    "    if np.cross(q2-q1,p2-p1)==0: \n",
    "        # parallel lines \n",
    "        return None \n",
    "    return np.cross(q2-q1,q1-p1)/np.cross(q2-q1,p2-p1)*(p2-p1)+p1\n",
    "\n",
    "def is_connected(p1,p2,q1,q2):\n",
    "    inter=intersection(p1,p2,q1,q2)\n",
    "    if inter is None: return False \n",
    "    else:\n",
    "        return on_seg(p1,p2,inter) and on_seg(q1,q2,inter)\n",
    "\n",
    "\n",
    "\n",
    "N=int(next(inpt))\n",
    "uf=UF(N+1)\n",
    "lines=[0]\n",
    "for i in range(1,N+1):\n",
    "    x1,y1,x2,y2=tuple(map(int,next(inpt).split()))\n",
    "    for j in range(1,i):\n",
    "        q1,q2=lines[j]\n",
    "        if is_connected((x1,y1),(x2,y2),q1,q2):\n",
    "            print (i,j)\n",
    "            uf.union(j,i)\n",
    "    lines.append(((x1,y1),(x2,y2)))\n",
    "while 1:\n",
    "    u,v=tuple(map(int,next(inpt).split()))\n",
    "    if u==v==0: break \n",
    "    if uf.same(u,v):\n",
    "        print ('CONNECTED')\n",
    "    else:\n",
    "        print ('NOT CONNECTED')"
   ]
  },
  {
   "cell_type": "code",
   "execution_count": 101,
   "metadata": {
    "collapsed": true
   },
   "outputs": [],
   "source": [
    "p1,p2,q1,q2=(4, 5), (6, 7), (4, 6) ,(4, 9)"
   ]
  },
  {
   "cell_type": "code",
   "execution_count": 102,
   "metadata": {},
   "outputs": [
    {
     "data": {
      "text/plain": [
       "array(-6)"
      ]
     },
     "execution_count": 102,
     "metadata": {},
     "output_type": "execute_result"
    }
   ],
   "source": [
    "p1,p2,q1,q2=tuple(map(np.array,(p1,p2,q1,q2)))\n",
    "np.cross(q2-q1,p2-p1)"
   ]
  },
  {
   "cell_type": "code",
   "execution_count": 103,
   "metadata": {
    "collapsed": true
   },
   "outputs": [],
   "source": [
    "inter=intersection(p1,p2,q1,q2)"
   ]
  },
  {
   "cell_type": "code",
   "execution_count": 104,
   "metadata": {},
   "outputs": [
    {
     "data": {
      "text/plain": [
       "array([4., 5.])"
      ]
     },
     "execution_count": 104,
     "metadata": {},
     "output_type": "execute_result"
    }
   ],
   "source": [
    "inter"
   ]
  },
  {
   "cell_type": "code",
   "execution_count": 93,
   "metadata": {
    "collapsed": true
   },
   "outputs": [],
   "source": [
    "q=inter"
   ]
  },
  {
   "cell_type": "code",
   "execution_count": 106,
   "metadata": {},
   "outputs": [
    {
     "data": {
      "text/plain": [
       "array(0.)"
      ]
     },
     "execution_count": 106,
     "metadata": {},
     "output_type": "execute_result"
    }
   ],
   "source": [
    "np.cross(p1-q,p2-q)"
   ]
  },
  {
   "cell_type": "code",
   "execution_count": 107,
   "metadata": {},
   "outputs": [
    {
     "data": {
      "text/plain": [
       "19.591836734693874"
      ]
     },
     "execution_count": 107,
     "metadata": {},
     "output_type": "execute_result"
    }
   ],
   "source": [
    "np.dot(p1-q,p2-q)"
   ]
  },
  {
   "cell_type": "code",
   "execution_count": 105,
   "metadata": {},
   "outputs": [
    {
     "data": {
      "text/plain": [
       "True"
      ]
     },
     "execution_count": 105,
     "metadata": {},
     "output_type": "execute_result"
    }
   ],
   "source": [
    "on_seg(p1,p2,inter)"
   ]
  },
  {
   "cell_type": "code",
   "execution_count": 121,
   "metadata": {},
   "outputs": [
    {
     "name": "stdout",
     "output_type": "stream",
     "text": [
      "[3, 5]\n"
     ]
    }
   ],
   "source": [
    "## coneology poj 2932\n",
    "#平面扫描\n",
    "inpt=iter([\n",
    "'5',\n",
    "'1 0 -2',\n",
    "'3 0 3',\n",
    "'10 0 0',\n",
    "'1 0 1.5',\n",
    "'10 50 50'\n",
    "    ])\n",
    "N=int(next(inpt))\n",
    "y_bounds=dict()\n",
    "points=[]\n",
    "for i in range(1,N+1):\n",
    "    r,p1,p2=tuple(map(float,next(inpt).split()))\n",
    "    points.append((p1-r,i))\n",
    "    points.append((p1+r,i))\n",
    "    y_bounds[i]=((p2-r,p2+r))\n",
    "points.sort() \n",
    "res=[]\n",
    "not_res=set()\n",
    "scan=set()\n",
    "#print (points)\n",
    "#print (y_bounds)\n",
    "\n",
    "def is_inside(i,circle):\n",
    "    return y_bounds[circle][0]<y_bounds[i][0] and y_bounds[circle][1]>y_bounds[i][1]\n",
    "for x,i in points:\n",
    "    #print (scan, res, not_res)\n",
    "    if i in not_res: continue \n",
    "    if i in scan: # at the right point of circle i\n",
    "        scan.remove(i)\n",
    "    elif len(scan)>0 and any(is_inside(i,circle) for circle in scan):\n",
    "        not_res.add(i)\n",
    "    else: \n",
    "        scan.add(i)\n",
    "        res.append(i)\n",
    "print (res)"
   ]
  },
  {
   "cell_type": "code",
   "execution_count": 158,
   "metadata": {},
   "outputs": [],
   "source": [
    "def graham_scan(points):\n",
    "    #O(nlogn)\n",
    "    '''Graham scan to find upper and lower convex hulls of a set of 2d points.'''\n",
    "    U = []\n",
    "    L = []\n",
    "    points.sort()\n",
    "    for p in points:\n",
    "        while len(U) > 1 and orientation(U[-2],U[-1],p) <= 0: U.pop()\n",
    "        while len(L) > 1 and orientation(L[-2],L[-1],p) >= 0: L.pop()\n",
    "        U.append(p)\n",
    "        L.append(p)\n",
    "    return U+L[1:-1][::-1]"
   ]
  },
  {
   "cell_type": "code",
   "execution_count": 159,
   "metadata": {
    "collapsed": true
   },
   "outputs": [],
   "source": [
    "def dist(p,q):\n",
    "    return ((p[0]-q[0])**2+(p[1]-q[1])**2)\n",
    "    "
   ]
  },
  {
   "cell_type": "code",
   "execution_count": 160,
   "metadata": {
    "collapsed": true
   },
   "outputs": [],
   "source": [
    "points=[(0,5),(1,8),(3,4),(5,0),(6,2),(6,6),(8,3),(8,7)]"
   ]
  },
  {
   "cell_type": "code",
   "execution_count": 161,
   "metadata": {},
   "outputs": [
    {
     "name": "stdout",
     "output_type": "stream",
     "text": [
      "80\n"
     ]
    }
   ],
   "source": [
    "qs=graham_scan(points)\n",
    "res=0\n",
    "for i in range(len(qs)):\n",
    "    for j in range(i):\n",
    "        res=max(res,dist(qs[i],qs[j]))\n",
    "print (res )"
   ]
  },
  {
   "cell_type": "code",
   "execution_count": 138,
   "metadata": {},
   "outputs": [
    {
     "data": {
      "text/plain": [
       "[(0, 5), (5, 0), (8, 3), (8, 7), (1, 8)]"
      ]
     },
     "execution_count": 138,
     "metadata": {},
     "output_type": "execute_result"
    }
   ],
   "source": [
    "qs"
   ]
  },
  {
   "cell_type": "code",
   "execution_count": 151,
   "metadata": {
    "collapsed": true
   },
   "outputs": [],
   "source": [
    "from __future__ import generators\n",
    "\n",
    "def orientation(p,q,r):\n",
    "    '''Return positive number if p-q-r are clockwise, neg if ccw, zero if colinear.'''\n",
    "    return (q[1]-p[1])*(r[0]-p[0]) - (q[0]-p[0])*(r[1]-p[1])\n",
    "\n",
    "def hulls(Points):\n",
    "    '''Graham scan to find upper and lower convex hulls of a set of 2d points.'''\n",
    "    U = []\n",
    "    L = []\n",
    "    Points.sort()\n",
    "    for p in Points:\n",
    "        while len(U) > 1 and orientation(U[-2],U[-1],p) <= 0: U.pop()\n",
    "        while len(L) > 1 and orientation(L[-2],L[-1],p) >= 0: L.pop()\n",
    "        U.append(p)\n",
    "        L.append(p)\n",
    "    return U,L\n",
    "\n",
    "# U,L = hulls([(0,0),(1,1),(0,1),(1,0),(1,3),(3,1),(2,2)])\n",
    "# returns\n",
    "# U = [(0, 0), (0, 1), (1, 3), (3, 1)]\n",
    "# L = [(0, 0), (1, 0), (3, 1)]\n",
    "\n",
    "def rotatingCalipers(Points):\n",
    "    '''Given a list of 2d points, finds all ways of sandwiching the points between\n",
    "two parallel lines that touch one point each, and yields the sequence of pairs of\n",
    "points touched by each pair of lines.'''\n",
    "    U,L = hulls(Points)\n",
    "    i = 0\n",
    "    j = len(L) - 1\n",
    "    while i < len(U) - 1 or j > 0:\n",
    "        yield U[i],L[j]\n",
    "        \n",
    "        # if all the way through one of top or bottom, advance the other\n",
    "        if i == len(U) - 1: j -= 1\n",
    "        elif j == 0: i += 1\n",
    "        \n",
    "        # still points left on both lists, compare slopes of next hull edges\n",
    "        elif (U[i+1][1]-U[i][1])*(L[j][0]-L[j-1][0]) > \\\n",
    "                (L[j][1]-L[j-1][1])*(U[i+1][0]-U[i][0]):\n",
    "            i += 1\n",
    "        else: j -= 1\n",
    "\n",
    "# rotatingCalipers([(0,0),(1,1),(0,1),(1,0),(1,3),(3,1),(2,2)])\n",
    "# yields:\n",
    "# (0, 0) (3, 1)\n",
    "# (0, 1) (3, 1)\n",
    "# (1, 3) (3, 1)\n",
    "# (1, 3) (1, 0)\n",
    "# (1, 3) (0, 0)\n",
    "\n",
    "def diameter(Points):\n",
    "    '''Given a list of 2d points, returns the pair that's farthest apart.'''\n",
    "    bestPair = None\n",
    "    bestDist = 0\n",
    "    def square(x): return x*x\n",
    "    for p,q in rotatingCalipers(Points):\n",
    "        dist = square(q[0]-p[0]) + square(q[1]-p[1])\n",
    "        if dist > bestDist:\n",
    "            bestDist = dist\n",
    "            bestPair = (p,q)\n",
    "    return bestPair,bestDist\n",
    "\n",
    "# diameter([(0,0),(1,1),(0,1),(1,0),(1,3),(3,1),(2,2)])\n",
    "# returns: ((0, 0), (3, 1))"
   ]
  },
  {
   "cell_type": "code",
   "execution_count": 152,
   "metadata": {
    "collapsed": true
   },
   "outputs": [],
   "source": [
    "points=[(0,5),(1,8),(3,4),(5,0),(6,2),(6,6),(8,3),(8,7)]"
   ]
  },
  {
   "cell_type": "code",
   "execution_count": 153,
   "metadata": {},
   "outputs": [
    {
     "data": {
      "text/plain": [
       "(((1, 8), (5, 0)), 80)"
      ]
     },
     "execution_count": 153,
     "metadata": {},
     "output_type": "execute_result"
    }
   ],
   "source": [
    "diameter(points)"
   ]
  },
  {
   "cell_type": "code",
   "execution_count": 164,
   "metadata": {
    "collapsed": true
   },
   "outputs": [],
   "source": [
    "def simpson(func,a,b):\n",
    "    return (b-a)/6*(func(a)+4*func((a+b)/2)+func(b))\n"
   ]
  },
  {
   "cell_type": "code",
   "execution_count": 172,
   "metadata": {},
   "outputs": [
    {
     "name": "stdout",
     "output_type": "stream",
     "text": [
      "7600258.484771574\n"
     ]
    }
   ],
   "source": [
    "inpt=iter([\n",
    "'4 4',\n",
    "'-98 99',\n",
    "'-99 -99',\n",
    "'99 -98',\n",
    "'99 97',\n",
    "'-99 99',\n",
    "'-98 -98',\n",
    "'99 -99',\n",
    "'96 99'\n",
    "    ])\n",
    "m,n=tuple(map(int,next(inpt).split()))\n",
    "def simpson(func,a,b):\n",
    "    return (b-a)/6*(func(a)+4*func((a+b)/2)+func(b))\n",
    "\n",
    "def width(points,x):\n",
    "    #计算x 切过polygon的宽度\n",
    "    # points are sorted ccw \n",
    "    lb=float('inf')\n",
    "    ub=float('-inf')\n",
    "    n=len(points)\n",
    "    for i in range(n):\n",
    "        x1,y1=points[i]\n",
    "        x2,y2=points[(i+1)%n]\n",
    "        if (x1-x)*(x2-x)<=0 and x1!=x2:\n",
    "            y=y1+(y2-y1)*(x-x1)/(x2-x1)\n",
    "            lb=min(lb,y)\n",
    "            ub=max(ub,y)\n",
    "    return max(0,ub-lb)\n",
    "\n",
    "xs=[] # record every change of x \n",
    "z_polygon=[] \n",
    "for _ in range(m):\n",
    "    point=tuple(map(int,next(inpt).split()))\n",
    "    z_polygon.append(point)\n",
    "    xs.append(point[0])\n",
    "y_polygon=[]\n",
    "for _ in range(n):\n",
    "    point=tuple(map(int,next(inpt).split()))\n",
    "    y_polygon.append(point)\n",
    "    xs.append(point[0])\n",
    "\n",
    "func=lambda x:width(z_polygon,x)*width(y_polygon,x)\n",
    "xs.sort()\n",
    "res=0\n",
    "for i in range(len(xs)-1):\n",
    "    a=xs[i]\n",
    "    b=xs[i+1]\n",
    "    res+=simpson(func,a,b)\n",
    "\n",
    "print (res)\n"
   ]
  },
  {
   "cell_type": "code",
   "execution_count": null,
   "metadata": {
    "collapsed": true
   },
   "outputs": [],
   "source": []
  }
 ],
 "metadata": {
  "kernelspec": {
   "display_name": "Python 3",
   "language": "python",
   "name": "python3"
  },
  "language_info": {
   "codemirror_mode": {
    "name": "ipython",
    "version": 3
   },
   "file_extension": ".py",
   "mimetype": "text/x-python",
   "name": "python",
   "nbconvert_exporter": "python",
   "pygments_lexer": "ipython3",
   "version": "3.6.3"
  }
 },
 "nbformat": 4,
 "nbformat_minor": 2
}
