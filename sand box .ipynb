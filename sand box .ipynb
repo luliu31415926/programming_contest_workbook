{
 "cells": [
  {
   "cell_type": "code",
   "execution_count": 18,
   "metadata": {},
   "outputs": [
    {
     "ename": "NameError",
     "evalue": "name 'MAX_V' is not defined",
     "output_type": "error",
     "traceback": [
      "\u001b[0;31m---------------------------------------------------------------------------\u001b[0m",
      "\u001b[0;31mNameError\u001b[0m                                 Traceback (most recent call last)",
      "\u001b[0;32m<ipython-input-18-8e355de8aafc>\u001b[0m in \u001b[0;36m<module>\u001b[0;34m()\u001b[0m\n\u001b[1;32m      1\u001b[0m \u001b[0;31m# min cost flow\u001b[0m\u001b[0;34m\u001b[0m\u001b[0;34m\u001b[0m\u001b[0m\n\u001b[1;32m      2\u001b[0m \u001b[0;34m\u001b[0m\u001b[0m\n\u001b[0;32m----> 3\u001b[0;31m \u001b[0mG\u001b[0m\u001b[0;34m=\u001b[0m\u001b[0;34m[\u001b[0m\u001b[0;34m-\u001b[0m\u001b[0;36m1\u001b[0m\u001b[0;34m]\u001b[0m\u001b[0;34m*\u001b[0m\u001b[0mMAX_V\u001b[0m\u001b[0;34m\u001b[0m\u001b[0m\n\u001b[0m\u001b[1;32m      4\u001b[0m \u001b[0mprevv\u001b[0m\u001b[0;34m=\u001b[0m\u001b[0;34m[\u001b[0m\u001b[0;34m-\u001b[0m\u001b[0;36m1\u001b[0m\u001b[0;34m]\u001b[0m\u001b[0;34m*\u001b[0m\u001b[0mMAX_V\u001b[0m\u001b[0;34m\u001b[0m\u001b[0m\n\u001b[1;32m      5\u001b[0m \u001b[0mpreve\u001b[0m\u001b[0;34m=\u001b[0m\u001b[0;34m[\u001b[0m\u001b[0;34m-\u001b[0m\u001b[0;36m1\u001b[0m\u001b[0;34m]\u001b[0m\u001b[0;34m*\u001b[0m\u001b[0mMAX_V\u001b[0m\u001b[0;34m\u001b[0m\u001b[0m\n",
      "\u001b[0;31mNameError\u001b[0m: name 'MAX_V' is not defined"
     ]
    }
   ],
   "source": [
    "# min cost flow \n",
    "\n",
    "G=[-1]*MAX_V\n",
    "prevv=[-1]*MAX_V\n",
    "preve=[-1]*MAX_V\n",
    "\n",
    "class Edge:\n",
    "    def __init__(self,to,cap,cost,rev):\n",
    "        self.to=to\n",
    "        self.cap=cap\n",
    "        self.cost=cost\n",
    "        self.rev=rev\n",
    "        \n",
    "def add_edge(fro,to,cap,cost):\n",
    "    G[fro].append(Edge(to,cap,cost,len(G[to])))\n",
    "    G[to].append(Edge(fro,0,-cost,len(G[fro])-1))\n",
    "    \n",
    "def min_cost_flow(s,t,f):\n",
    "    res=0\n",
    "    h=[0]*V\n",
    "    while f>0:\n",
    "        heap=[]\n",
    "        dist=[float('inf')]*V\n",
    "        dist[s]=0\n",
    "        heapq.heappush(heap,(0,s)) #(dist, vertex)\n",
    "        while heap:\n",
    "            d,v=heapq.heappop(heap)\n",
    "            if dist[v]<d: continue \n",
    "            for i in range(len(G[v])):\n",
    "                e=G[v][i]\n",
    "                if e.cap>0 and dist[e.to]>dist[v]+e.cost+h[v]-h[e.to]:\n",
    "                    dist[e.to]=dist[v]+e.cost+h[v]-h[e.to]\n",
    "                    prevv[e.to]=v\n",
    "                    preve[e.to]=i\n",
    "                    heapq.heappush((dist[e.to],e.to))\n",
    "        if dist[t]==float('inf'):\n",
    "            return -1\n",
    "        for v in range(V):\n",
    "            h[v]+=dist[v]\n",
    "        d=f\n",
    "        v=t\n",
    "        while v!=s:\n",
    "            d=min(d,G[prevv[v]][preve[v]].cap)\n",
    "            v=prevv[v]\n",
    "        f-=d\n",
    "        res+=d*h[t]\n",
    "        v=t\n",
    "        while v!=s:\n",
    "            e=G[prevv[v]][preve[v]]\n",
    "            e.cap-=d\n",
    "            G[v][e.rev].cap+=d\n",
    "            v=prevv[v]\n",
    "    return res"
   ]
  },
  {
   "cell_type": "code",
   "execution_count": 24,
   "metadata": {},
   "outputs": [
    {
     "name": "stdout",
     "output_type": "stream",
     "text": [
      "6\n"
     ]
    }
   ],
   "source": [
    "import heapq\n",
    "inpt=iter(['4 5',\n",
    "'1 2 1',\n",
    "'2 3 1',\n",
    "'3 4 1',\n",
    "'1 3 2',\n",
    "'2 4 2'])\n",
    "N,M=tuple(map(int,next(inpt).split()))\n",
    "V=N+1\n",
    "G=[[] for _ in range(V)]\n",
    "\n",
    "\n",
    "class Edge:\n",
    "    def __init__(self,to,cap,cost,rev):\n",
    "        self.to=to\n",
    "        self.cap=cap\n",
    "        self.cost=cost\n",
    "        self.rev=rev\n",
    "        \n",
    "def add_edge(fro,to,cap,cost):\n",
    "    G[fro].append(Edge(to,cap,cost,len(G[to])))\n",
    "    G[to].append(Edge(fro,0,-cost,len(G[fro])-1))\n",
    "    \n",
    "def min_cost_flow(s,t,f):\n",
    "    prevv=[-1]*V\n",
    "    preve=[-1]*V\n",
    "    res=0\n",
    "    h=[0]*V\n",
    "    while f>0:\n",
    "        heap=[]\n",
    "        dist=[float('inf')]*V\n",
    "        dist[s]=0\n",
    "        heapq.heappush(heap,(0,s)) #(dist, vertex)\n",
    "        while heap:\n",
    "            d,v=heapq.heappop(heap)\n",
    "            if dist[v]<d: continue \n",
    "            for i in range(len(G[v])):\n",
    "                e=G[v][i]\n",
    "                if e.cap>0 and dist[e.to]>dist[v]+e.cost+h[v]-h[e.to]:\n",
    "                    dist[e.to]=dist[v]+e.cost+h[v]-h[e.to]\n",
    "                    prevv[e.to]=v\n",
    "                    preve[e.to]=i\n",
    "                    heapq.heappush(heap,(dist[e.to],e.to))\n",
    "        if dist[t]==float('inf'):\n",
    "            return -1\n",
    "        for v in range(V):\n",
    "            h[v]+=dist[v]\n",
    "        d=f\n",
    "        v=t\n",
    "        while v!=s:\n",
    "            d=min(d,G[prevv[v]][preve[v]].cap)\n",
    "            v=prevv[v]\n",
    "        f-=d\n",
    "        res+=d*h[t]\n",
    "        v=t\n",
    "        while v!=s:\n",
    "            e=G[prevv[v]][preve[v]]\n",
    "            e.cap-=d\n",
    "            G[v][e.rev].cap+=d\n",
    "            v=prevv[v]\n",
    "    return res\n",
    "\n",
    "for _ in range(M):\n",
    "    u,v,c=tuple(map(int,next(inpt).split()))\n",
    "    add_edge(u,v,1,c)\n",
    "    add_edge(v,u,1,c)\n",
    "print (min_cost_flow(1,N,2))"
   ]
  },
  {
   "cell_type": "code",
   "execution_count": 29,
   "metadata": {},
   "outputs": [
    {
     "name": "stdout",
     "output_type": "stream",
     "text": [
      "1 2 0 1 0\n",
      "1 2 0 -1 1\n",
      "1 3 0 2 4\n",
      "1 3 0 -2 5\n",
      "2 1 1 -1 0\n",
      "2 1 1 1 1\n",
      "2 3 1 1 0\n",
      "2 3 0 -1 1\n",
      "2 4 0 2 2\n",
      "2 4 0 -2 3\n",
      "3 2 0 -1 2\n",
      "3 2 1 1 3\n",
      "3 4 0 1 0\n",
      "3 4 0 -1 1\n",
      "3 1 1 -2 2\n",
      "3 1 1 2 3\n",
      "4 3 1 -1 2\n",
      "4 3 1 1 3\n",
      "4 2 1 -2 4\n",
      "4 2 1 2 5\n"
     ]
    }
   ],
   "source": [
    "for i,u in enumerate(G):\n",
    "    for e in u :\n",
    "        print (i,e.to,e.cap,e.cost,e.rev)\n",
    "        "
   ]
  },
  {
   "cell_type": "code",
   "execution_count": null,
   "metadata": {
    "collapsed": true
   },
   "outputs": [],
   "source": [
    "# bipartite matching \n",
    "G=[[] for _ in range(MAX_V)]\n",
    "used=[False]*MAX_V\n",
    "match=[-1]*MAX_V\n",
    "def add_edge(u,v):\n",
    "    G[u].append(v)\n",
    "    G[v].append(u)\n",
    "def dfs(v):\n",
    "    used[v]=True\n",
    "    for i in range(len(G[v])):\n",
    "        u=G[v][i]\n",
    "        w=match[u]\n",
    "        if w<0 or (not used[w] and dfs(w)):\n",
    "            match[v]=u\n",
    "            match[u]=v\n",
    "            return True\n",
    "    return False\n",
    "def bipartite_matching():\n",
    "    res=0\n",
    "    for v in range(MAX_V):\n",
    "        if match[v]<0:\n",
    "            used=[False]*MAX_V\n",
    "            if dfs(v):res+=1 \n",
    "    return res "
   ]
  },
  {
   "cell_type": "code",
   "execution_count": 4,
   "metadata": {
    "scrolled": true
   },
   "outputs": [
    {
     "name": "stdout",
     "output_type": "stream",
     "text": [
      "3 4\n",
      "1 1 \n",
      "1 3\n",
      "2 2\n",
      "3 2\n",
      "2\n"
     ]
    }
   ],
   "source": [
    "# ASTEROID POJ 3041 \n",
    "# 最小顶点覆盖： 每个边都至少与其中一个顶点相交 \n",
    "# 二分图中 最小顶点覆盖数= 最大匹配数 \n",
    "# after max flow, s 到不了的u +s 到的了的 v\n",
    "\n",
    "\n",
    "# bipartite matching \n",
    "\n",
    "def add_edge(u,v):\n",
    "    G[u].append(v)\n",
    "    G[v].append(u)\n",
    "def dfs(v):\n",
    "    used[v]=True\n",
    "    for i in range(len(G[v])):\n",
    "        u=G[v][i]\n",
    "        w=match[u]\n",
    "        if w<0 or (not used[w] and dfs(w)):\n",
    "            match[v]=u\n",
    "            match[u]=v\n",
    "            return True\n",
    "    return False\n",
    "def bipartite_matching():\n",
    "    res=0\n",
    "    for v in range(MAX_V):\n",
    "        if match[v]<0:\n",
    "            used=[False]*MAX_V\n",
    "            if dfs(v):res+=1 \n",
    "\n",
    "    return res \n",
    "\n",
    "\n",
    "N,K=tuple(map(int,input().split()))\n",
    "MAX_V=2*N\n",
    "G=[[] for _ in range(MAX_V)]\n",
    "used=[False]*MAX_V\n",
    "match=[-1]*MAX_V\n",
    "\n",
    "for _ in range(K):\n",
    "\tu,v=tuple(map(int,input().split()))\n",
    "\tadd_edge(u-1,N+v-1)\n",
    "res=bipartite_matching()"
   ]
  },
  {
   "cell_type": "code",
   "execution_count": 12,
   "metadata": {
    "collapsed": true
   },
   "outputs": [],
   "source": [
    "inpt=iter(['5 5','XXDXX','X...X','D...X','X...D','XXXXX'])"
   ]
  },
  {
   "cell_type": "code",
   "execution_count": 26,
   "metadata": {},
   "outputs": [
    {
     "name": "stdout",
     "output_type": "stream",
     "text": [
      "1 4\n",
      "impossible\n"
     ]
    }
   ],
   "source": [
    "inpt=iter(['5 5','XDXXX','X.X.D','XX.XX','D.X.X','XXXDX'])\n",
    "import collections \n",
    "# Evacuation poj 3057 \n",
    "R,C=tuple(map(int,next(inpt).split()))\n",
    "people=[]\n",
    "door=[]\n",
    "graph=[]\n",
    "for i in range(R):\n",
    "    line=next(inpt)\n",
    "    graph.append(line)\n",
    "    for j,c in enumerate(line):\n",
    "        if c=='D':\n",
    "            door.append((i,j))\n",
    "        if c=='.':\n",
    "            people.append((i,j))\n",
    "v_hash=dict()\n",
    "for i,p in enumerate(people):\n",
    "    v_hash[p]=i\n",
    "for i,d in enumerate(door):\n",
    "    v_hash[d]=i+len(people)\n",
    "\n",
    "\n",
    "dist=collections.defaultdict(list)\n",
    "\n",
    "def bfs(dx,dy):\n",
    "    visited=[[False]*C for _ in range(R)]\n",
    "    t=0\n",
    "    DIRS=[(0,1),(1,0),(0,-1),(-1,0)]\n",
    "    q=collections.deque()\n",
    "    q.append((dx,dy))\n",
    "    while q:\n",
    "        cur_x,cur_y=q.popleft()\n",
    "        visited[cur_x][cur_y]=True\n",
    "        t+=1\n",
    "        for u,v  in DIRS:\n",
    "            if 0<= cur_x+u<R and 0<=cur_y+v<C and \\\n",
    "            graph[cur_x+u][cur_y+v]=='.' and not visited[cur_x+u][cur_y+v]:\n",
    "                q.append((cur_x+u,cur_y+v))\n",
    "                dist[t].append((v_hash[dx,dy],v_hash[cur_x+u,cur_y+v]))\n",
    "    return \n",
    "\n",
    "# find the distance of each person to each door \n",
    "for dx,dy in door:\n",
    "    bfs(dx,dy)  \n",
    "\n",
    "\n",
    "MAX_V=len(people)+len(door)\n",
    "\n",
    "MAX_T=max(dist.keys())\n",
    "\n",
    "# bipartite matching \n",
    "def add_edge(u,v):\n",
    "    G[u].append(v)\n",
    "    G[v].append(u)\n",
    "def dfs(v):\n",
    "    used[v]=True\n",
    "    for i in range(len(G[v])):\n",
    "        u=G[v][i]\n",
    "        w=match[u]\n",
    "        if w<0 or (not used[w] and dfs(w)):\n",
    "            match[v]=u\n",
    "            match[u]=v\n",
    "            return True\n",
    "    return False\n",
    "\n",
    "t=1\n",
    "res=0\n",
    "while 1:\n",
    "    #for every new second rematch newly escapable people with doors  \n",
    "    G=[[] for _ in range(MAX_V)]\n",
    "    match=[-1]*MAX_V\n",
    "    for u,v in dist[t]:\n",
    "        add_edge(u,v)\n",
    "    for u,v in dist[t]:\n",
    "        if match[u]<0:\n",
    "            used=[False]*MAX_V\n",
    "            if dfs(u):res+=1\n",
    "        if match[v]<0:\n",
    "            used=[False]*MAX_V\n",
    "            if dfs(v):res+=1\n",
    "\n",
    "    print (t,res)\n",
    "    if res==len(people): \n",
    "        print (t)\n",
    "        break\n",
    "    if t==MAX_T:\n",
    "        print ('impossible')\n",
    "        break\n",
    "    t+=1\n",
    "        "
   ]
  },
  {
   "cell_type": "code",
   "execution_count": 1,
   "metadata": {},
   "outputs": [],
   "source": [
    "from Dinic import Dinic"
   ]
  },
  {
   "cell_type": "code",
   "execution_count": 13,
   "metadata": {
    "scrolled": true
   },
   "outputs": [
    {
     "name": "stdout",
     "output_type": "stream",
     "text": [
      "3\n"
     ]
    }
   ],
   "source": [
    "inpt=iter(['4 3 3','2 2 1 2 3 1','2 2 2 3 1 2','2 2 1 3 1 2','2 1 1 3 3'])\n",
    "N,F,D=tuple(map(int,next(inpt).split()))\n",
    "dinic=Dinic(2+F+D+N*2)\n",
    "source=0\n",
    "sink=1+F+D+N*2\n",
    "for food in range(1,F+1):\n",
    "    dinic.add_edge(source,food,1)\n",
    "for drink in range(F+1,F+1+D):\n",
    "    dinic.add_edge(drink,sink,1)\n",
    "for i in range(1,N+1):\n",
    "    dinic.add_edge(F+D+i,F+D+N+i,1)\n",
    "for i in range(1,N+1):\n",
    "    line=list(map(int,next(inpt).split()))\n",
    "    f,d=line[:2]\n",
    "    for food in line[2:2+f]:\n",
    "        dinic.add_edge(food,F+D+i,1)\n",
    "    for drink in line[-d:]:\n",
    "        dinic.add_edge(F+D+N+i,drink+F,1)\n",
    "max_flow=dinic.max_flow(source,sink)\n",
    "print (max_flow)"
   ]
  },
  {
   "cell_type": "code",
   "execution_count": 11,
   "metadata": {},
   "outputs": [],
   "source": [
    "max_flow=dinic.max_flow(source,sink)"
   ]
  },
  {
   "cell_type": "code",
   "execution_count": 12,
   "metadata": {},
   "outputs": [
    {
     "data": {
      "text/plain": [
       "3"
      ]
     },
     "execution_count": 12,
     "metadata": {},
     "output_type": "execute_result"
    }
   ],
   "source": [
    "max_flow"
   ]
  },
  {
   "cell_type": "code",
   "execution_count": 17,
   "metadata": {
    "scrolled": true
   },
   "outputs": [
    {
     "name": "stdout",
     "output_type": "stream",
     "text": [
      "13\n"
     ]
    }
   ],
   "source": [
    "from Dinic import Dinic\n",
    "inpt=iter(['3 1',\n",
    "'1 10',\n",
    "'2 10',\n",
    "'10 3',\n",
    "'2 3 1000'])\n",
    "N,M=tuple(map(int,next(inpt).split()))\n",
    "dinic=Dinic(N+2)\n",
    "source=0\n",
    "sink=N+1\n",
    "for i in range(1,N+1):\n",
    "\ta,b=tuple(map(int,next(inpt).split()))\n",
    "\tdinic.add_edge(source,i,a)\n",
    "\tdinic.add_edge(i,sink,b)\n",
    "for _ in range(M):\n",
    "\ta,b,w=tuple(map(int,next(inpt).split()))\n",
    "\tdinic.add_edge(a,b,w)\n",
    "\tdinic.add_edge(b,a,w)\n",
    "print (dinic.max_flow(source,sink))"
   ]
  },
  {
   "cell_type": "code",
   "execution_count": null,
   "metadata": {
    "collapsed": true
   },
   "outputs": [],
   "source": []
  }
 ],
 "metadata": {
  "kernelspec": {
   "display_name": "Python 3",
   "language": "python",
   "name": "python3"
  },
  "language_info": {
   "codemirror_mode": {
    "name": "ipython",
    "version": 3
   },
   "file_extension": ".py",
   "mimetype": "text/x-python",
   "name": "python",
   "nbconvert_exporter": "python",
   "pygments_lexer": "ipython3",
   "version": "3.6.3"
  }
 },
 "nbformat": 4,
 "nbformat_minor": 2
}
