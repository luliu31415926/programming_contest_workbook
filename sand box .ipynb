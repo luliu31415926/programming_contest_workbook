{
 "cells": [
  {
   "cell_type": "code",
   "execution_count": 80,
   "metadata": {
    "collapsed": true
   },
   "outputs": [],
   "source": [
    "# flow problem with lower and upper bound \n",
    "from Dinic import Graph\n",
    "class LowerUpper:\n",
    "    def __init__(self,V,edges,source=None,sink=None):\n",
    "        self.graph=[[0]*(V+2) for _ in range(V+2)]\n",
    "        self.source=source\n",
    "        self.sink=sink\n",
    "        self.edges=edges\n",
    "        self.meta_source=V\n",
    "        self.meta_sink=V+1\n",
    "        self.d=[0]*V\n",
    "        for u,v,low,high in edges:\n",
    "            self.graph[u][v]=high-low\n",
    "            self.d[u]+=low\n",
    "            self.d[v]-=low \n",
    "        for i,val in enumerate(self.d):\n",
    "            if val>0: #too much coming in, send extra to virtual sink\n",
    "                self.graph[i][self.meta_sink]=val\n",
    "            elif val<0:\n",
    "                self.graph[self.meta_source][i]=-val\n",
    "        if source is not None:\n",
    "            self.graph[sink][source]=float('inf')\n",
    "\n",
    "    def find_feasible_flow(self):\n",
    "        # find out if a flow is feasible to satisfy constraints\n",
    "        # return dictionary of the feasible flow \n",
    "        self.dinic=Graph(self.graph)\n",
    "        max_flow=self.dinic.Dinic(self.meta_source,self.meta_sink)\n",
    "        if max_flow!=sum(val for val in self.d if val>0):\n",
    "            return None \n",
    "        else:\n",
    "            self.feas_flows=dict()\n",
    "            for u,v,low,high in edges:\n",
    "                self.feas_flows[u,v]=self.dinic.graph[v][u]+low \n",
    "            return self.feas_flows \n",
    "    def find_max_flow(self):\n",
    "        #return max flow,\n",
    "        #store flows of each edge in self.max_flows\n",
    "        if self.source is None: \n",
    "            return None \n",
    "        else:\n",
    "            self.dinic.graph[self.sink][self.source]=0\n",
    "            self.dinic.graph[self.source][self.sink]=0\n",
    "            max_flow=self.dinic.Dinic(self.source,self.sink)\n",
    "            self.max_flows=dict()\n",
    "            for u,v,low,high in edges:\n",
    "                self.max_flows[u,v]=self.dinic.graph[v][u]+low \n",
    "            return max_flow \n",
    "    def find_min_flow(self):\n",
    "        # return min flow \n",
    "        # store flows of each edge in self.min_flows\n",
    "        if self.source is None: return None\n",
    "        self.graph[self.sink][self.source]=0\n",
    "        self.dinic=Graph(self.graph)\n",
    "        max_flow=self.dinic.Dinic(self.meta_source,self.meta_sink)\n",
    "        self.dinic.graph[self.sink][self.source]=float('inf')\n",
    "        max_flow=self.dinic.Dinic(self.meta_source,self.meta_sink)\n",
    "        if max_flow==sum(val for val in self.d if val>0):\n",
    "            self.min_flows=dict()\n",
    "            for u,v,low,high in edges:\n",
    "                self.min_flows[u,v]=self.dinic.graph[v][u]+low \n",
    "            return self.dinic.graph[self.source][self.sink]\n",
    "        else:\n",
    "            return None\n",
    "        "
   ]
  },
  {
   "cell_type": "code",
   "execution_count": 81,
   "metadata": {
    "collapsed": true
   },
   "outputs": [],
   "source": [
    "edges=[(0,1,0,2),(1,3,1,1),(0,2,2,2),(2,3,0,3)]\n",
    "lu=LowerUpper(4,edges,source=0,sink=3)"
   ]
  },
  {
   "cell_type": "code",
   "execution_count": 82,
   "metadata": {
    "scrolled": false
   },
   "outputs": [
    {
     "name": "stdout",
     "output_type": "stream",
     "text": [
      "0\n"
     ]
    },
    {
     "data": {
      "text/plain": [
       "3"
      ]
     },
     "execution_count": 82,
     "metadata": {},
     "output_type": "execute_result"
    }
   ],
   "source": [
    "lu.find_min_flow()"
   ]
  },
  {
   "cell_type": "code",
   "execution_count": 85,
   "metadata": {},
   "outputs": [
    {
     "name": "stdout",
     "output_type": "stream",
     "text": [
      "1\n",
      "1\n",
      "2\n",
      "2\n"
     ]
    }
   ],
   "source": [
    "for u,v,low,high in edges:\n",
    "    print (low+lu.dinic.graph[v][u])"
   ]
  },
  {
   "cell_type": "code",
   "execution_count": 84,
   "metadata": {
    "scrolled": false
   },
   "outputs": [
    {
     "data": {
      "text/plain": [
       "[[0, 1, 0, 3, 0, 0],\n",
       " [1, 0, 0, 0, 0, 0],\n",
       " [0, 0, 0, 1, 2, 0],\n",
       " [inf, 0, 2, 0, 1, 0],\n",
       " [0, 0, 0, 0, 0, 0],\n",
       " [2, 1, 0, 0, 0, 0]]"
      ]
     },
     "execution_count": 84,
     "metadata": {},
     "output_type": "execute_result"
    }
   ],
   "source": [
    "lu.dinic.graph"
   ]
  },
  {
   "cell_type": "code",
   "execution_count": 74,
   "metadata": {},
   "outputs": [
    {
     "data": {
      "text/plain": [
       "{(0, 1): 18,\n",
       " (0, 2): 18,\n",
       " (1, 3): 9,\n",
       " (1, 4): 6,\n",
       " (1, 5): 3,\n",
       " (2, 3): 3,\n",
       " (2, 4): 6,\n",
       " (2, 5): 9,\n",
       " (3, 6): 12,\n",
       " (4, 6): 12,\n",
       " (5, 6): 12}"
      ]
     },
     "execution_count": 74,
     "metadata": {},
     "output_type": "execute_result"
    }
   ],
   "source": [
    "lu.find_max_flow()"
   ]
  },
  {
   "cell_type": "code",
   "execution_count": 65,
   "metadata": {
    "scrolled": false
   },
   "outputs": [
    {
     "name": "stdout",
     "output_type": "stream",
     "text": [
      "36\n",
      "9\n",
      "6\n",
      "3\n",
      "3\n",
      "6\n",
      "9\n"
     ]
    }
   ],
   "source": [
    "n,m=tuple(map(int,next(inpt).split()))\n",
    "#n+m+2, n+m+3 reserved for meta source and meta sink \n",
    "V=n+m+2 #number of vertices \n",
    "source=0\n",
    "sink=n+m+1\n",
    "meta_source=n+m+2\n",
    "meta_sink=n+m+3\n",
    "graph=[[0]*(V+2) for _ in range(V+2)]\n",
    "G=list(map(int,next(inpt).split()))\n",
    "d=[0]*V\n",
    "for i,g in enumerate(G):\n",
    "    #girl to sink\n",
    "    graph[n+1+i][sink]=float('inf')\n",
    "    d[n+1+i]+=g\n",
    "    d[sink]-=g\n",
    "edges=[]\n",
    "for day in range(1,n+1):\n",
    "    C,D=tuple(map(int,next(inpt).split()))\n",
    "    graph[source][day]=D\n",
    "    for _ in range(C):\n",
    "        girl,low,high=tuple(map(int,next(inpt).split()))\n",
    "        edges.append((day,n+girl+1,low))\n",
    "        graph[day][n+girl+1]=high-low\n",
    "        d[n+girl+1]-=low \n",
    "        d[day]+=low \n",
    "for i in range(n+m+2):\n",
    "    if d[i]>0:# send extra to meta sink\n",
    "        graph[i][meta_sink]=d[i]\n",
    "    elif d[i]<0:# send extra from meta source\n",
    "        graph[meta_source][i]=-d[i]\n",
    "graph[sink][source]=float('inf')\n",
    "dinic=Graph(graph)\n",
    "max_flow1=dinic.Dinic(meta_source,meta_sink)\n",
    "\n",
    "if max_flow1<sum(val for val in d if val>0):\n",
    "    print (-1)\n",
    "else:\n",
    "   \n",
    "    dinic.graph[sink][source]=0\n",
    "    dinic.graph[source][sink]=0\n",
    "    #new_graph=[row[:V] for row in dinic.graph[:V] ]\n",
    "    #dinic=Graph(new_graph)\n",
    "    max_flow2=dinic.Dinic(source,sink)\n",
    "    print (max_flow1+max_flow2)\n",
    "    for u,v,low in edges:\n",
    "        print (dinic.graph[v][u]+low)\n",
    "        \n",
    "\n",
    "    "
   ]
  },
  {
   "cell_type": "code",
   "execution_count": 37,
   "metadata": {},
   "outputs": [
    {
     "data": {
      "text/plain": [
       "[[0, 6, 12, 0, 0, 0, 0, 0, 0],\n",
       " [9, 0, 0, 6, 6, 6, 0, 0, 0],\n",
       " [9, 0, 0, 3, 3, 6, 0, 0, 0],\n",
       " [0, 0, 0, 0, 0, 0, 9, 3, 0],\n",
       " [0, 0, 0, 0, 0, 0, 6, 6, 0],\n",
       " [0, 0, 0, 0, 0, 0, 3, 9, 0],\n",
       " [0, 0, 0, 3, 6, 9, 0, 0, 0],\n",
       " [0, 0, 0, 0, 0, 0, 0, 0, 0],\n",
       " [0, 9, 9, 0, 0, 0, 0, 0, 0]]"
      ]
     },
     "execution_count": 37,
     "metadata": {},
     "output_type": "execute_result"
    }
   ],
   "source": [
    "dinic.graph"
   ]
  },
  {
   "cell_type": "code",
   "execution_count": null,
   "metadata": {
    "collapsed": true
   },
   "outputs": [],
   "source": [
    "max_flow2=dinic.Dinic(source,sink)\n",
    "    print (max_flow1+max_flow2)\n",
    "    for u,v,low in edges:\n",
    "        print (dinic.graph[v][u]+low)"
   ]
  },
  {
   "cell_type": "code",
   "execution_count": 23,
   "metadata": {},
   "outputs": [
    {
     "name": "stdout",
     "output_type": "stream",
     "text": [
      "[(1, 3, 3), (1, 4, 3), (1, 5, 3), (2, 3, 0), (2, 4, 3), (2, 5, 6)]\n"
     ]
    }
   ],
   "source": [
    "print (edges)"
   ]
  },
  {
   "cell_type": "code",
   "execution_count": 24,
   "metadata": {},
   "outputs": [
    {
     "data": {
      "text/plain": [
       "[[0, 9, 9, 0, 0, 0, 0],\n",
       " [9, 0, 0, 6, 6, 6, 0],\n",
       " [9, 0, 0, 3, 3, 3, 0],\n",
       " [0, 0, 0, 0, 0, 0, 9],\n",
       " [0, 0, 0, 0, 0, 0, 6],\n",
       " [0, 0, 0, 0, 0, 0, 3],\n",
       " [0, 0, 0, 3, 6, 9, 0]]"
      ]
     },
     "execution_count": 24,
     "metadata": {},
     "output_type": "execute_result"
    }
   ],
   "source": [
    "dinic.graph"
   ]
  },
  {
   "cell_type": "code",
   "execution_count": null,
   "metadata": {
    "collapsed": true
   },
   "outputs": [],
   "source": []
  },
  {
   "cell_type": "code",
   "execution_count": 14,
   "metadata": {},
   "outputs": [
    {
     "data": {
      "text/plain": [
       "[[0, 9, 9, 0, 0, 0, 0],\n",
       " [9, 0, 0, 6, 6, 6, 0],\n",
       " [9, 0, 0, 3, 3, 3, 0],\n",
       " [0, 0, 0, 0, 0, 0, 9],\n",
       " [0, 0, 0, 0, 0, 0, 6],\n",
       " [0, 0, 0, 0, 0, 0, 3],\n",
       " [0, 0, 0, 3, 6, 9, 0]]"
      ]
     },
     "execution_count": 14,
     "metadata": {},
     "output_type": "execute_result"
    }
   ],
   "source": [
    "dinic.graph"
   ]
  },
  {
   "cell_type": "code",
   "execution_count": 15,
   "metadata": {
    "collapsed": true
   },
   "outputs": [],
   "source": [
    "max_flow2=dinic.Dinic(source,sink)\n",
    "    "
   ]
  },
  {
   "cell_type": "code",
   "execution_count": 16,
   "metadata": {},
   "outputs": [
    {
     "data": {
      "text/plain": [
       "18"
      ]
     },
     "execution_count": 16,
     "metadata": {},
     "output_type": "execute_result"
    }
   ],
   "source": [
    "max_flow2"
   ]
  },
  {
   "cell_type": "code",
   "execution_count": 17,
   "metadata": {},
   "outputs": [
    {
     "data": {
      "text/plain": [
       "[[0, 0, 0, 0, 0, 0, 0],\n",
       " [18, 0, 0, 0, 3, 6, 0],\n",
       " [18, 0, 0, 0, 0, 0, 0],\n",
       " [0, 6, 3, 0, 0, 0, 0],\n",
       " [0, 3, 3, 0, 0, 0, 0],\n",
       " [0, 0, 3, 0, 0, 0, 0],\n",
       " [0, 0, 0, 12, 12, 12, 0]]"
      ]
     },
     "execution_count": 17,
     "metadata": {},
     "output_type": "execute_result"
    }
   ],
   "source": [
    "dinic.graph"
   ]
  },
  {
   "cell_type": "code",
   "execution_count": 18,
   "metadata": {},
   "outputs": [
    {
     "name": "stdout",
     "output_type": "stream",
     "text": [
      "36\n",
      "3\n",
      "9\n",
      "6\n",
      "0\n",
      "6\n",
      "9\n"
     ]
    }
   ],
   "source": []
  },
  {
   "cell_type": "code",
   "execution_count": 13,
   "metadata": {
    "scrolled": true
   },
   "outputs": [
    {
     "ename": "KeyError",
     "evalue": "0",
     "output_type": "error",
     "traceback": [
      "\u001b[0;31m---------------------------------------------------------------------------\u001b[0m",
      "\u001b[0;31mKeyError\u001b[0m                                  Traceback (most recent call last)",
      "\u001b[0;32m<ipython-input-13-1139e0df5a3c>\u001b[0m in \u001b[0;36m<module>\u001b[0;34m()\u001b[0m\n\u001b[1;32m      1\u001b[0m \u001b[0mdinic\u001b[0m\u001b[0;34m.\u001b[0m\u001b[0mgraph\u001b[0m\u001b[0;34m[\u001b[0m\u001b[0msink\u001b[0m\u001b[0;34m]\u001b[0m\u001b[0;34m[\u001b[0m\u001b[0msource\u001b[0m\u001b[0;34m]\u001b[0m\u001b[0;34m=\u001b[0m\u001b[0;36m0\u001b[0m\u001b[0;34m\u001b[0m\u001b[0m\n\u001b[1;32m      2\u001b[0m \u001b[0mdinic\u001b[0m\u001b[0;34m.\u001b[0m\u001b[0mDinic\u001b[0m\u001b[0;34m(\u001b[0m\u001b[0msource\u001b[0m\u001b[0;34m,\u001b[0m\u001b[0msink\u001b[0m\u001b[0;34m)\u001b[0m\u001b[0;34m\u001b[0m\u001b[0m\n\u001b[0;32m----> 3\u001b[0;31m \u001b[0mprint\u001b[0m \u001b[0;34m(\u001b[0m\u001b[0msum\u001b[0m\u001b[0;34m(\u001b[0m\u001b[0mdinic\u001b[0m\u001b[0;34m.\u001b[0m\u001b[0mflows\u001b[0m\u001b[0;34m[\u001b[0m\u001b[0msource\u001b[0m\u001b[0;34m]\u001b[0m\u001b[0;34m[\u001b[0m\u001b[0md\u001b[0m\u001b[0;34m]\u001b[0m \u001b[0;32mfor\u001b[0m \u001b[0md\u001b[0m \u001b[0;32min\u001b[0m \u001b[0mrange\u001b[0m\u001b[0;34m(\u001b[0m\u001b[0;36m1\u001b[0m\u001b[0;34m,\u001b[0m\u001b[0mn\u001b[0m\u001b[0;34m+\u001b[0m\u001b[0;36m1\u001b[0m\u001b[0;34m)\u001b[0m\u001b[0;34m)\u001b[0m\u001b[0;34m)\u001b[0m\u001b[0;34m\u001b[0m\u001b[0m\n\u001b[0m\u001b[1;32m      4\u001b[0m \u001b[0mprint\u001b[0m \u001b[0;34m(\u001b[0m\u001b[0msum\u001b[0m\u001b[0;34m(\u001b[0m\u001b[0mdinic\u001b[0m\u001b[0;34m.\u001b[0m\u001b[0mflows\u001b[0m\u001b[0;34m[\u001b[0m\u001b[0mgirl\u001b[0m\u001b[0;34m]\u001b[0m\u001b[0;34m[\u001b[0m\u001b[0msink\u001b[0m\u001b[0;34m]\u001b[0m \u001b[0;32mfor\u001b[0m \u001b[0mgirl\u001b[0m \u001b[0;32min\u001b[0m \u001b[0mrange\u001b[0m\u001b[0;34m(\u001b[0m\u001b[0mn\u001b[0m\u001b[0;34m+\u001b[0m\u001b[0;36m1\u001b[0m\u001b[0;34m,\u001b[0m\u001b[0mn\u001b[0m\u001b[0;34m+\u001b[0m\u001b[0mm\u001b[0m\u001b[0;34m+\u001b[0m\u001b[0;36m1\u001b[0m\u001b[0;34m)\u001b[0m\u001b[0;34m)\u001b[0m\u001b[0;34m)\u001b[0m\u001b[0;34m\u001b[0m\u001b[0m\n\u001b[1;32m      5\u001b[0m \u001b[0;32mfor\u001b[0m \u001b[0mu\u001b[0m\u001b[0;34m,\u001b[0m\u001b[0mv\u001b[0m\u001b[0;34m,\u001b[0m\u001b[0mlow\u001b[0m \u001b[0;32min\u001b[0m \u001b[0medges\u001b[0m\u001b[0;34m:\u001b[0m\u001b[0;34m\u001b[0m\u001b[0m\n",
      "\u001b[0;32m<ipython-input-13-1139e0df5a3c>\u001b[0m in \u001b[0;36m<genexpr>\u001b[0;34m(.0)\u001b[0m\n\u001b[1;32m      1\u001b[0m \u001b[0mdinic\u001b[0m\u001b[0;34m.\u001b[0m\u001b[0mgraph\u001b[0m\u001b[0;34m[\u001b[0m\u001b[0msink\u001b[0m\u001b[0;34m]\u001b[0m\u001b[0;34m[\u001b[0m\u001b[0msource\u001b[0m\u001b[0;34m]\u001b[0m\u001b[0;34m=\u001b[0m\u001b[0;36m0\u001b[0m\u001b[0;34m\u001b[0m\u001b[0m\n\u001b[1;32m      2\u001b[0m \u001b[0mdinic\u001b[0m\u001b[0;34m.\u001b[0m\u001b[0mDinic\u001b[0m\u001b[0;34m(\u001b[0m\u001b[0msource\u001b[0m\u001b[0;34m,\u001b[0m\u001b[0msink\u001b[0m\u001b[0;34m)\u001b[0m\u001b[0;34m\u001b[0m\u001b[0m\n\u001b[0;32m----> 3\u001b[0;31m \u001b[0mprint\u001b[0m \u001b[0;34m(\u001b[0m\u001b[0msum\u001b[0m\u001b[0;34m(\u001b[0m\u001b[0mdinic\u001b[0m\u001b[0;34m.\u001b[0m\u001b[0mflows\u001b[0m\u001b[0;34m[\u001b[0m\u001b[0msource\u001b[0m\u001b[0;34m]\u001b[0m\u001b[0;34m[\u001b[0m\u001b[0md\u001b[0m\u001b[0;34m]\u001b[0m \u001b[0;32mfor\u001b[0m \u001b[0md\u001b[0m \u001b[0;32min\u001b[0m \u001b[0mrange\u001b[0m\u001b[0;34m(\u001b[0m\u001b[0;36m1\u001b[0m\u001b[0;34m,\u001b[0m\u001b[0mn\u001b[0m\u001b[0;34m+\u001b[0m\u001b[0;36m1\u001b[0m\u001b[0;34m)\u001b[0m\u001b[0;34m)\u001b[0m\u001b[0;34m)\u001b[0m\u001b[0;34m\u001b[0m\u001b[0m\n\u001b[0m\u001b[1;32m      4\u001b[0m \u001b[0mprint\u001b[0m \u001b[0;34m(\u001b[0m\u001b[0msum\u001b[0m\u001b[0;34m(\u001b[0m\u001b[0mdinic\u001b[0m\u001b[0;34m.\u001b[0m\u001b[0mflows\u001b[0m\u001b[0;34m[\u001b[0m\u001b[0mgirl\u001b[0m\u001b[0;34m]\u001b[0m\u001b[0;34m[\u001b[0m\u001b[0msink\u001b[0m\u001b[0;34m]\u001b[0m \u001b[0;32mfor\u001b[0m \u001b[0mgirl\u001b[0m \u001b[0;32min\u001b[0m \u001b[0mrange\u001b[0m\u001b[0;34m(\u001b[0m\u001b[0mn\u001b[0m\u001b[0;34m+\u001b[0m\u001b[0;36m1\u001b[0m\u001b[0;34m,\u001b[0m\u001b[0mn\u001b[0m\u001b[0;34m+\u001b[0m\u001b[0mm\u001b[0m\u001b[0;34m+\u001b[0m\u001b[0;36m1\u001b[0m\u001b[0;34m)\u001b[0m\u001b[0;34m)\u001b[0m\u001b[0;34m)\u001b[0m\u001b[0;34m\u001b[0m\u001b[0m\n\u001b[1;32m      5\u001b[0m \u001b[0;32mfor\u001b[0m \u001b[0mu\u001b[0m\u001b[0;34m,\u001b[0m\u001b[0mv\u001b[0m\u001b[0;34m,\u001b[0m\u001b[0mlow\u001b[0m \u001b[0;32min\u001b[0m \u001b[0medges\u001b[0m\u001b[0;34m:\u001b[0m\u001b[0;34m\u001b[0m\u001b[0m\n",
      "\u001b[0;31mKeyError\u001b[0m: 0"
     ]
    }
   ],
   "source": [
    "dinic.graph[sink][source]=0\n",
    "dinic.Dinic(source,sink)\n"
   ]
  },
  {
   "cell_type": "code",
   "execution_count": 16,
   "metadata": {},
   "outputs": [
    {
     "data": {
      "text/plain": [
       "54"
      ]
     },
     "execution_count": 16,
     "metadata": {},
     "output_type": "execute_result"
    }
   ],
   "source": [
    "dinic.max_flow"
   ]
  },
  {
   "cell_type": "code",
   "execution_count": null,
   "metadata": {
    "collapsed": true
   },
   "outputs": [],
   "source": [
    "print (sum(dinic.flows[source][d] for d in range(1,n+1)))\n",
    "print (sum(dinic.flows[girl][sink] for girl in range(n+1,n+m+1)))\n",
    "for u,v,low in edges:\n",
    "    print (dinic.flows[u][v]+low)"
   ]
  },
  {
   "cell_type": "code",
   "execution_count": 3,
   "metadata": {},
   "outputs": [
    {
     "data": {
      "text/plain": [
       "{(0, 1): 18,\n",
       " (0, 2): 6,\n",
       " (1, 2): 0,\n",
       " (1, 3): 6,\n",
       " (1, 4): 3,\n",
       " (1, 8): 9,\n",
       " (2, 2): 3,\n",
       " (2, 3): 0,\n",
       " (2, 4): 0,\n",
       " (2, 8): 6,\n",
       " (3, 6): 12,\n",
       " (4, 6): 12,\n",
       " (5, 6): 0,\n",
       " (6, 0): 0,\n",
       " (7, 3): 6,\n",
       " (7, 4): 9}"
      ]
     },
     "execution_count": 3,
     "metadata": {},
     "output_type": "execute_result"
    }
   ],
   "source": [
    "dinic.flows"
   ]
  },
  {
   "cell_type": "code",
   "execution_count": null,
   "metadata": {
    "collapsed": true
   },
   "outputs": [],
   "source": [
    "in='2 3\n",
    "12 12 12\n",
    "3 18\n",
    "0 3 9\n",
    "1 3 9\n",
    "2 3 9\n",
    "3 18\n",
    "0 0 3\n",
    "1 3 6\n",
    "2 6 9"
   ]
  },
  {
   "cell_type": "code",
   "execution_count": null,
   "metadata": {
    "collapsed": true
   },
   "outputs": [],
   "source": []
  }
 ],
 "metadata": {
  "kernelspec": {
   "display_name": "Python 3",
   "language": "python",
   "name": "python3"
  },
  "language_info": {
   "codemirror_mode": {
    "name": "ipython",
    "version": 3
   },
   "file_extension": ".py",
   "mimetype": "text/x-python",
   "name": "python",
   "nbconvert_exporter": "python",
   "pygments_lexer": "ipython3",
   "version": "3.6.3"
  }
 },
 "nbformat": 4,
 "nbformat_minor": 2
}
